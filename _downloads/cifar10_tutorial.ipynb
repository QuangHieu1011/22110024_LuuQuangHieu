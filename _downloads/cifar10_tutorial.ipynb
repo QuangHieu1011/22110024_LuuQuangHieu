{
  "cells": [
    {
      "cell_type": "code",
      "execution_count": 6,
      "metadata": {
        "id": "EJacgZpcPbv6"
      },
      "outputs": [],
      "source": [
        "%matplotlib inline"
      ]
    },
    {
      "cell_type": "markdown",
      "metadata": {
        "id": "Cy0k-hKqPbv9"
      },
      "source": [
        "\n",
        "Training a Classifier\n",
        "=====================\n",
        "\n",
        "This is it. You have seen how to define neural networks, compute loss and make\n",
        "updates to the weights of the network.\n",
        "\n",
        "Now you might be thinking,\n",
        "\n",
        "What about data?\n",
        "----------------\n",
        "\n",
        "Generally, when you have to deal with image, text, audio or video data,\n",
        "you can use standard python packages that load data into a numpy array.\n",
        "Then you can convert this array into a ``torch.*Tensor``.\n",
        "\n",
        "-  For images, packages such as Pillow, OpenCV are useful\n",
        "-  For audio, packages such as scipy and librosa\n",
        "-  For text, either raw Python or Cython based loading, or NLTK and\n",
        "   SpaCy are useful\n",
        "\n",
        "Specifically for vision, we have created a package called\n",
        "``torchvision``, that has data loaders for common datasets such as\n",
        "Imagenet, CIFAR10, MNIST, etc. and data transformers for images, viz.,\n",
        "``torchvision.datasets`` and ``torch.utils.data.DataLoader``.\n",
        "\n",
        "This provides a huge convenience and avoids writing boilerplate code.\n",
        "\n",
        "For this tutorial, we will use the CIFAR10 dataset.\n",
        "It has the classes: ‘airplane’, ‘automobile’, ‘bird’, ‘cat’, ‘deer’,\n",
        "‘dog’, ‘frog’, ‘horse’, ‘ship’, ‘truck’. The images in CIFAR-10 are of\n",
        "size 3x32x32, i.e. 3-channel color images of 32x32 pixels in size.\n",
        "\n",
        ".. figure:: /_static/img/cifar10.png\n",
        "   :alt: cifar10\n",
        "\n",
        "   cifar10\n",
        "\n",
        "\n",
        "Training an image classifier\n",
        "----------------------------\n",
        "\n",
        "We will do the following steps in order:\n",
        "\n",
        "1. Load and normalizing the CIFAR10 training and test datasets using\n",
        "   ``torchvision``\n",
        "2. Define a Convolution Neural Network\n",
        "3. Define a loss function\n",
        "4. Train the network on the training data\n",
        "5. Test the network on the test data\n",
        "\n",
        "1. Loading and normalizing CIFAR10\n",
        "^^^^^^^^^^^^^^^^^^^^^^^^^^^^^^^^^^\n",
        "\n",
        "Using ``torchvision``, it’s extremely easy to load CIFAR10.\n",
        "\n"
      ]
    },
    {
      "cell_type": "code",
      "execution_count": 7,
      "metadata": {
        "id": "c64TWB9IPbv_",
        "outputId": "417d008c-036a-4061-aeed-19e9279db890",
        "colab": {
          "base_uri": "https://localhost:8080/"
        }
      },
      "outputs": [
        {
          "output_type": "stream",
          "name": "stdout",
          "text": [
            "cuda:0\n"
          ]
        }
      ],
      "source": [
        "import torch\n",
        "import torchvision\n",
        "import torchvision.transforms as transforms\n",
        "device = torch.device(\"cuda:0\" if torch.cuda.is_available() else \"cpu\")\n",
        "\n",
        "# Assume that we are on a CUDA machine, then this should print a CUDA device:\n",
        "\n",
        "print(device)"
      ]
    },
    {
      "cell_type": "markdown",
      "metadata": {
        "id": "7qobPqV2Pbv_"
      },
      "source": [
        "The output of torchvision datasets are PILImage images of range [0, 1].\n",
        "We transform them to Tensors of normalized range [-1, 1].\n",
        "\n"
      ]
    },
    {
      "cell_type": "code",
      "execution_count": 8,
      "metadata": {
        "id": "pLpWqYAGPbv_",
        "outputId": "e06decca-45f4-4617-d9f3-66c5041d6949",
        "colab": {
          "base_uri": "https://localhost:8080/"
        }
      },
      "outputs": [
        {
          "output_type": "stream",
          "name": "stderr",
          "text": [
            "100%|██████████| 170M/170M [00:04<00:00, 37.5MB/s]\n"
          ]
        }
      ],
      "source": [
        "transform = transforms.Compose(\n",
        "    [transforms.ToTensor(),\n",
        "     transforms.Normalize((0.5, 0.5, 0.5), (0.5, 0.5, 0.5))])\n",
        "\n",
        "trainset = torchvision.datasets.CIFAR10(root='./data', train=True,\n",
        "                                        download=True, transform=transform)\n",
        "trainloader = torch.utils.data.DataLoader(trainset, batch_size=4,\n",
        "                                          shuffle=True, num_workers=2)\n",
        "\n",
        "testset = torchvision.datasets.CIFAR10(root='./data', train=False,\n",
        "                                       download=True, transform=transform)\n",
        "testloader = torch.utils.data.DataLoader(testset, batch_size=4,\n",
        "                                         shuffle=False, num_workers=2)\n",
        "\n",
        "classes = ('plane', 'car', 'bird', 'cat',\n",
        "           'deer', 'dog', 'frog', 'horse', 'ship', 'truck')"
      ]
    },
    {
      "cell_type": "markdown",
      "metadata": {
        "id": "i1HkYK0bPbwA"
      },
      "source": [
        "Let us show some of the training images, for fun.\n",
        "\n"
      ]
    },
    {
      "cell_type": "code",
      "execution_count": 9,
      "metadata": {
        "id": "fIWTeHJfPbwA",
        "outputId": "77e10630-68b6-4fe6-c044-ec2ae85b6c00",
        "colab": {
          "base_uri": "https://localhost:8080/",
          "height": 210
        }
      },
      "outputs": [
        {
          "output_type": "stream",
          "name": "stdout",
          "text": [
            " ship  ship   dog horse\n"
          ]
        },
        {
          "output_type": "display_data",
          "data": {
            "text/plain": [
              "<Figure size 640x480 with 1 Axes>"
            ],
            "image/png": "[encoded data removed]"
          },
          "metadata": {}
        }
      ],
      "source": [
        "import matplotlib.pyplot as plt\n",
        "import numpy as np\n",
        "\n",
        "# functions to show an image\n",
        "\n",
        "\n",
        "def imshow(img):\n",
        "    img = img / 2 + 0.5     # unnormalize\n",
        "    npimg = img.numpy()\n",
        "    plt.imshow(np.transpose(npimg, (1, 2, 0)))\n",
        "\n",
        "\n",
        "# get some random training images\n",
        "dataiter = iter(trainloader)\n",
        "images, labels = next(dataiter)\n",
        "\n",
        "# show images\n",
        "imshow(torchvision.utils.make_grid(images))\n",
        "# print labels\n",
        "print(' '.join('%5s' % classes[labels[j]] for j in range(4)))"
      ]
    },
    {
      "cell_type": "markdown",
      "metadata": {
        "id": "QZo1rWtXPbwA"
      },
      "source": [
        "2. Define a Convolution Neural Network\n",
        "^^^^^^^^^^^^^^^^^^^^^^^^^^^^^^^^^^^^^^\n",
        "Copy the neural network from the Neural Networks section before and modify it to\n",
        "take 3-channel images (instead of 1-channel images as it was defined).\n",
        "\n"
      ]
    },
    {
      "cell_type": "code",
      "execution_count": 10,
      "metadata": {
        "id": "q3be5FZoPbwB",
        "outputId": "1abe52fc-e117-4a4a-8ac1-daea3b2cadc4",
        "colab": {
          "base_uri": "https://localhost:8080/"
        }
      },
      "outputs": [
        {
          "output_type": "stream",
          "name": "stdout",
          "text": [
            "----------------------------------------------------------------\n",
            "        Layer (type)               Output Shape         Param #\n",
            "================================================================\n",
            "            Conv2d-1           [-1, 32, 30, 30]           2,432\n",
            "            Conv2d-2           [-1, 16, 30, 30]           4,624\n",
            "            Conv2d-3           [-1, 16, 30, 30]           2,320\n",
            "            Conv2d-4           [-1, 32, 30, 30]           4,640\n",
            "            Conv2d-5           [-1, 32, 30, 30]           9,248\n",
            "            Conv2d-6           [-1, 64, 30, 30]          18,496\n",
            "            Conv2d-7           [-1, 32, 30, 30]          25,632\n",
            "            Conv2d-8           [-1, 32, 30, 30]          25,632\n",
            "            Conv2d-9           [-1, 64, 30, 30]          51,264\n",
            "           Conv2d-10           [-1, 64, 30, 30]         102,464\n",
            "           Conv2d-11          [-1, 128, 30, 30]         204,928\n",
            "        MaxPool2d-12          [-1, 192, 15, 15]               0\n",
            "           Conv2d-13           [-1, 64, 15, 15]         110,656\n",
            "           Conv2d-14           [-1, 64, 15, 15]          36,928\n",
            "           Conv2d-15           [-1, 64, 15, 15]          36,928\n",
            "           Conv2d-16           [-1, 64, 15, 15]          36,928\n",
            "           Conv2d-17          [-1, 128, 15, 15]          73,856\n",
            "           Conv2d-18          [-1, 128, 15, 15]         147,584\n",
            "           Conv2d-19          [-1, 256, 15, 15]         295,168\n",
            "           Conv2d-20          [-1, 128, 15, 15]         204,928\n",
            "           Conv2d-21          [-1, 128, 15, 15]         409,728\n",
            "           Conv2d-22          [-1, 256, 15, 15]         819,456\n",
            "           Conv2d-23          [-1, 256, 15, 15]       1,638,656\n",
            "           Conv2d-24          [-1, 512, 15, 15]       3,277,312\n",
            "        MaxPool2d-25            [-1, 768, 7, 7]               0\n",
            "           Conv2d-26            [-1, 128, 7, 7]         884,864\n",
            "           Conv2d-27            [-1, 128, 7, 7]         147,584\n",
            "           Linear-28                 [-1, 1024]       6,423,552\n",
            "           Linear-29                   [-1, 10]          10,250\n",
            "================================================================\n",
            "Total params: 15,006,058\n",
            "Trainable params: 15,006,058\n",
            "Non-trainable params: 0\n",
            "----------------------------------------------------------------\n",
            "Input size (MB): 0.01\n",
            "Forward/backward pass size (MB): 7.75\n",
            "Params size (MB): 57.24\n",
            "Estimated Total Size (MB): 65.01\n",
            "----------------------------------------------------------------\n"
          ]
        }
      ],
      "source": [
        "import torch\n",
        "import torch.nn as nn\n",
        "import torch.nn.functional as F\n",
        "from torchsummary import summary\n",
        "\n",
        "class Net(nn.Module):\n",
        "    def __init__(self):\n",
        "        super(Net, self).__init__()\n",
        "\n",
        "        self.initial_conv = nn.Conv2d(3, 32, kernel_size=5, stride=1, padding=1)\n",
        "\n",
        "        self.conv3_1_1 = nn.Conv2d(32, 16, kernel_size=3, padding=1)\n",
        "        self.conv3_1_2 = nn.Conv2d(16, 16, kernel_size=3, padding=1)\n",
        "        self.conv3_1_3 = nn.Conv2d(16, 32, kernel_size=3, padding=1)\n",
        "        self.conv3_1_4 = nn.Conv2d(32, 32, kernel_size=3, padding=1)\n",
        "        self.conv3_1_5 = nn.Conv2d(32, 64, kernel_size=3, padding=1)\n",
        "\n",
        "        self.conv5_2_1 = nn.Conv2d(32, 32, kernel_size=5, padding=2)\n",
        "        self.conv5_2_2 = nn.Conv2d(32, 32, kernel_size=5, padding=2)\n",
        "        self.conv5_2_3 = nn.Conv2d(32, 64, kernel_size=5, padding=2)\n",
        "        self.conv5_2_4 = nn.Conv2d(64, 64, kernel_size=5, padding=2)\n",
        "        self.conv5_2_5 = nn.Conv2d(64, 128, kernel_size=5, padding=2)\n",
        "\n",
        "        # Lớp Max Pooling thứ nhất\n",
        "        self.pool1 = nn.MaxPool2d(2, 2)\n",
        "\n",
        "        # Điều chỉnh số lượng kênh sau concatenation 1 (chuyển thành conv 3x3)\n",
        "        self.conv_concat1_pool = nn.Conv2d(64 + 128, 64, kernel_size=3, padding=1)\n",
        "\n",
        "        # Element-wise summation 1 (chuyển thành conv 3x3)\n",
        "        self.conv_sum1 = nn.Conv2d(64, 64, kernel_size=3, padding=1)\n",
        "\n",
        "        self.conv3_3_1 = nn.Conv2d(64, 64, kernel_size=3, padding=1)\n",
        "        self.conv3_3_2 = nn.Conv2d(64, 64, kernel_size=3, padding=1)\n",
        "        self.conv3_3_3 = nn.Conv2d(64, 128, kernel_size=3, padding=1)\n",
        "        self.conv3_3_4 = nn.Conv2d(128, 128, kernel_size=3, padding=1)\n",
        "        self.conv3_3_5 = nn.Conv2d(128, 256, kernel_size=3, padding=1)\n",
        "\n",
        "        # Giảm số lượng kênh ở các lớp conv5x5 khác\n",
        "        self.conv5_4_1 = nn.Conv2d(64, 128, kernel_size=5, padding=2)\n",
        "        self.conv5_4_2 = nn.Conv2d(128, 128, kernel_size=5, padding=2)\n",
        "        self.conv5_4_3 = nn.Conv2d(128, 256, kernel_size=5, padding=2)\n",
        "        self.conv5_4_4 = nn.Conv2d(256, 256, kernel_size=5, padding=2)\n",
        "        self.conv5_4_5 = nn.Conv2d(256, 512, kernel_size=5, padding=2)\n",
        "\n",
        "        # Lớp Max Pooling thứ hai\n",
        "        self.pool2 = nn.MaxPool2d(2, 2)\n",
        "\n",
        "        # Điều chỉnh số lượng kênh sau concatenation 2 (chuyển thành conv 3x3)\n",
        "        self.conv_concat2_pool = nn.Conv2d(256 + 512, 128, kernel_size=3, padding=1)\n",
        "\n",
        "        # Element-wise summation 2 (chuyển thành conv 3x3)\n",
        "        self.conv_sum2 = nn.Conv2d(128, 128, kernel_size=3, padding=1)\n",
        "\n",
        "        self.fc1 = nn.Linear(128 * 7 * 7, 1024) # Điều chỉnh kích thước fc1\n",
        "        self.fc2 = nn.Linear(1024, 10)\n",
        "\n",
        "    def forward(self, x):\n",
        "        # Lớp Conv2d ban đầu\n",
        "        x_initial = F.relu(self.initial_conv(x))\n",
        "\n",
        "        # Block 1:\n",
        "        x = F.relu(self.conv3_1_1(x_initial))\n",
        "        x = F.relu(self.conv3_1_2(x))\n",
        "        x = F.relu(self.conv3_1_3(x))\n",
        "        x = F.relu(self.conv3_1_4(x))\n",
        "        x_3x3 = F.relu(self.conv3_1_5(x))\n",
        "\n",
        "        # Block 2:\n",
        "        y = F.relu(self.conv5_2_1(x_initial))\n",
        "        y = F.relu(self.conv5_2_2(y))\n",
        "        y = F.relu(self.conv5_2_3(y))\n",
        "        y = F.relu(self.conv5_2_4(y))\n",
        "        y_5x5 = F.relu(self.conv5_2_5(y))\n",
        "\n",
        "        # Max Pooling thứ nhất\n",
        "        x_pooled = self.pool1(torch.cat((x_3x3, y_5x5), dim=1))\n",
        "        x_concat_pooled = F.relu(self.conv_concat1_pool(x_pooled))\n",
        "\n",
        "        # Element-wise summation 1\n",
        "        sum1 = torch.add(x_concat_pooled, F.relu(self.conv_sum1(x_concat_pooled)))\n",
        "\n",
        "        # Thêm các lớp conv3x3 khác\n",
        "        x_branch3x3 = F.relu(self.conv3_3_1(sum1))\n",
        "        x_branch3x3 = F.relu(self.conv3_3_2(x_branch3x3))\n",
        "        x_branch3x3 = F.relu(self.conv3_3_3(x_branch3x3))\n",
        "        x_branch3x3 = F.relu(self.conv3_3_4(x_branch3x3))\n",
        "        x_3x3_2 = F.relu(self.conv3_3_5(x_branch3x3))\n",
        "\n",
        "        # Thêm các lớp conv5x5 khác\n",
        "        y_branch5x5 = F.relu(self.conv5_4_1(sum1))\n",
        "        y_branch5x5 = F.relu(self.conv5_4_2(y_branch5x5))\n",
        "        y_branch5x5 = F.relu(self.conv5_4_3(y_branch5x5))\n",
        "        y_branch5x5 = F.relu(self.conv5_4_4(y_branch5x5))\n",
        "        y_5x5_2 = F.relu(self.conv5_4_5(y_branch5x5))\n",
        "\n",
        "        # Max Pooling thứ hai\n",
        "        x = self.pool2(torch.cat((x_3x3_2, y_5x5_2), dim=1))\n",
        "        x = F.relu(self.conv_concat2_pool(x))\n",
        "\n",
        "        # Element-wise summation 2\n",
        "        sum2 = torch.add(x, F.relu(self.conv_sum2(x)))\n",
        "\n",
        "        x = sum2.view(-1, 128 * 7 * 7)\n",
        "        x = F.relu(self.fc1(x))\n",
        "        x = self.fc2(x)\n",
        "        return x\n",
        "\n",
        "# Khởi tạo và in summary\n",
        "device = torch.device(\"cuda\" if torch.cuda.is_available() else \"cpu\")\n",
        "net = Net().to(device)\n",
        "\n",
        "summary(net, (3, 32, 32))"
      ]
    },
    {
      "cell_type": "markdown",
      "metadata": {
        "id": "WwkAIP4SPbwB"
      },
      "source": [
        "3. Define a Loss function and optimizer\n",
        "^^^^^^^^^^^^^^^^^^^^^^^^^^^^^^^^^^^^^^^\n",
        "Let's use a Classification Cross-Entropy loss and SGD with momentum.\n",
        "\n"
      ]
    },
    {
      "cell_type": "code",
      "execution_count": 11,
      "metadata": {
        "id": "OgYQwK2gPbwB"
      },
      "outputs": [],
      "source": [
        "import torch.optim as optim\n",
        "\n",
        "criterion = nn.CrossEntropyLoss()\n",
        "optimizer = optim.SGD(net.parameters(), lr=0.001, momentum=0.9)"
      ]
    },
    {
      "cell_type": "markdown",
      "metadata": {
        "id": "bHeTzCU2PbwB"
      },
      "source": [
        "4. Train the network\n",
        "^^^^^^^^^^^^^^^^^^^^\n",
        "\n",
        "This is when things start to get interesting.\n",
        "We simply have to loop over our data iterator, and feed the inputs to the\n",
        "network and optimize.\n",
        "\n"
      ]
    },
    {
      "cell_type": "code",
      "execution_count": 12,
      "metadata": {
        "id": "Egm89lKMPbwB",
        "outputId": "e5518ef2-5cb8-4ede-fe44-1ab282e46c77",
        "colab": {
          "base_uri": "https://localhost:8080/"
        }
      },
      "outputs": [
        {
          "output_type": "stream",
          "name": "stdout",
          "text": [
            "[1,  2000] loss: 2.303\n",
            "[1,  4000] loss: 2.303\n",
            "[1,  6000] loss: 2.303\n",
            "[1,  8000] loss: 2.303\n",
            "[1, 10000] loss: 2.303\n",
            "[1, 12000] loss: 2.303\n",
            "[2,  2000] loss: 2.303\n",
            "[2,  4000] loss: 2.303\n",
            "[2,  6000] loss: 2.303\n",
            "[2,  8000] loss: 2.303\n",
            "[2, 10000] loss: 2.303\n",
            "[2, 12000] loss: 2.303\n",
            "Finished Training\n"
          ]
        }
      ],
      "source": [
        "for epoch in range(2):  # loop over the dataset multiple times\n",
        "\n",
        "    running_loss = 0.0\n",
        "    for i, data in enumerate(trainloader, 0):\n",
        "        # get the inputs\n",
        "        inputs, labels = data\n",
        "        inputs, labels = inputs.to(device), labels.to(device)\n",
        "\n",
        "        # zero the parameter gradients\n",
        "        optimizer.zero_grad()\n",
        "\n",
        "        # forward + backward + optimize\n",
        "        outputs = net(inputs)\n",
        "        loss = criterion(outputs, labels)\n",
        "        loss.backward()\n",
        "        optimizer.step()\n",
        "\n",
        "        # print statistics\n",
        "        running_loss += loss.item()\n",
        "        if i % 2000 == 1999:    # print every 2000 mini-batches\n",
        "            print('[%d, %5d] loss: %.3f' %\n",
        "                  (epoch + 1, i + 1, running_loss / 2000))\n",
        "            running_loss = 0.0\n",
        "\n",
        "print('Finished Training')"
      ]
    },
    {
      "cell_type": "markdown",
      "metadata": {
        "id": "-rCMaMM_PbwB"
      },
      "source": [
        "5. Test the network on the test data\n",
        "^^^^^^^^^^^^^^^^^^^^^^^^^^^^^^^^^^^^\n",
        "\n",
        "We have trained the network for 2 passes over the training dataset.\n",
        "But we need to check if the network has learnt anything at all.\n",
        "\n",
        "We will check this by predicting the class label that the neural network\n",
        "outputs, and checking it against the ground-truth. If the prediction is\n",
        "correct, we add the sample to the list of correct predictions.\n",
        "\n",
        "Okay, first step. Let us display an image from the test set to get familiar.\n",
        "\n"
      ]
    },
    {
      "cell_type": "code",
      "execution_count": 13,
      "metadata": {
        "id": "AVFfCJF3PbwB",
        "outputId": "64f08f75-f7e7-4b39-c785-d181d7762d23",
        "colab": {
          "base_uri": "https://localhost:8080/",
          "height": 210
        }
      },
      "outputs": [
        {
          "output_type": "stream",
          "name": "stdout",
          "text": [
            "GroundTruth:    cat  ship  ship plane\n"
          ]
        },
        {
          "output_type": "display_data",
          "data": {
            "text/plain": [
              "<Figure size 640x480 with 1 Axes>"
            ],
            "image/png": "[encoded data removed]"
          },
          "metadata": {}
        }
      ],
      "source": [
        "dataiter = iter(testloader)\n",
        "images, labels = next(dataiter)\n",
        "\n",
        "# print images\n",
        "imshow(torchvision.utils.make_grid(images))\n",
        "print('GroundTruth: ', ' '.join('%5s' % classes[labels[j]] for j in range(4)))"
      ]
    },
    {
      "cell_type": "markdown",
      "metadata": {
        "id": "n_Rd8ltNPbwC"
      },
      "source": [
        "Okay, now let us see what the neural network thinks these examples above are:\n",
        "\n"
      ]
    },
    {
      "cell_type": "code",
      "execution_count": 14,
      "metadata": {
        "id": "mneYXnGTPbwC"
      },
      "outputs": [],
      "source": [
        "images = images.cuda()"
      ]
    },
    {
      "cell_type": "markdown",
      "metadata": {
        "id": "spp64KEqPbwC"
      },
      "source": [
        "The outputs are energies for the 10 classes.\n",
        "Higher the energy for a class, the more the network\n",
        "thinks that the image is of the particular class.\n",
        "So, let's get the index of the highest energy:\n",
        "\n"
      ]
    },
    {
      "cell_type": "code",
      "execution_count": 15,
      "metadata": {
        "id": "QIMCWNVQPbwC",
        "outputId": "e0d76880-bbc6-42e3-df13-e76caa152a84",
        "colab": {
          "base_uri": "https://localhost:8080/"
        }
      },
      "outputs": [
        {
          "output_type": "stream",
          "name": "stdout",
          "text": [
            "Predicted:   deer  deer  deer  deer\n"
          ]
        }
      ],
      "source": [
        "_, predicted = torch.max(outputs, 1)\n",
        "\n",
        "print('Predicted: ', ' '.join('%5s' % classes[predicted[j]]\n",
        "                              for j in range(4)))"
      ]
    },
    {
      "cell_type": "markdown",
      "metadata": {
        "id": "m4DXeNT5PbwC"
      },
      "source": [
        "The results seem pretty good.\n",
        "\n",
        "Let us look at how the network performs on the whole dataset.\n",
        "\n"
      ]
    },
    {
      "cell_type": "code",
      "execution_count": 16,
      "metadata": {
        "id": "_kKlaWTIPbwC",
        "outputId": "c6303ac0-d943-48f8-ea83-c11c346159b7",
        "colab": {
          "base_uri": "https://localhost:8080/"
        }
      },
      "outputs": [
        {
          "output_type": "stream",
          "name": "stdout",
          "text": [
            "Accuracy of the network on the 10000 test images: 10 %\n"
          ]
        }
      ],
      "source": [
        "correct = 0\n",
        "total = 0\n",
        "with torch.no_grad():\n",
        "    for data in testloader:\n",
        "        images, labels = data\n",
        "        images, labels = images.to(device), labels.to(device)\n",
        "        outputs = net(images)\n",
        "        _, predicted = torch.max(outputs.data, 1)\n",
        "        total += labels.size(0)\n",
        "        correct += (predicted == labels).sum().item()\n",
        "\n",
        "print('Accuracy of the network on the 10000 test images: %d %%' % (\n",
        "    100 * correct / total))"
      ]
    },
    {
      "cell_type": "markdown",
      "metadata": {
        "id": "CnjDiFspPbwC"
      },
      "source": [
        "That looks waaay better than chance, which is 10% accuracy (randomly picking\n",
        "a class out of 10 classes).\n",
        "Seems like the network learnt something.\n",
        "\n",
        "Hmmm, what are the classes that performed well, and the classes that did\n",
        "not perform well:\n",
        "\n"
      ]
    },
    {
      "cell_type": "code",
      "execution_count": 17,
      "metadata": {
        "id": "6MCaUCdDPbwC",
        "outputId": "118447df-d92c-4392-c023-1a5484fe474a",
        "colab": {
          "base_uri": "https://localhost:8080/"
        }
      },
      "outputs": [
        {
          "output_type": "stream",
          "name": "stdout",
          "text": [
            "Accuracy of plane :  0 %\n",
            "Accuracy of   car :  0 %\n",
            "Accuracy of  bird :  0 %\n",
            "Accuracy of   cat :  0 %\n",
            "Accuracy of  deer : 100 %\n",
            "Accuracy of   dog :  0 %\n",
            "Accuracy of  frog :  0 %\n",
            "Accuracy of horse :  0 %\n",
            "Accuracy of  ship :  0 %\n",
            "Accuracy of truck :  0 %\n"
          ]
        }
      ],
      "source": [
        "class_correct = list(0. for i in range(10))\n",
        "class_total = list(0. for i in range(10))\n",
        "with torch.no_grad():\n",
        "    for data in testloader:\n",
        "        images, labels = data\n",
        "        images, labels = inputs.to(device), labels.to(device)\n",
        "        outputs = net(images)\n",
        "        _, predicted = torch.max(outputs, 1)\n",
        "        c = (predicted == labels).squeeze()\n",
        "        for i in range(4):\n",
        "            label = labels[i]\n",
        "            class_correct[label] += c[i].item()\n",
        "            class_total[label] += 1\n",
        "\n",
        "\n",
        "for i in range(10):\n",
        "    print('Accuracy of %5s : %2d %%' % (\n",
        "        classes[i], 100 * class_correct[i] / class_total[i]))"
      ]
    },
    {
      "cell_type": "markdown",
      "metadata": {
        "id": "AK87CBlnPbwC"
      },
      "source": [
        "Okay, so what next?\n",
        "\n",
        "How do we run these neural networks on the GPU?\n",
        "\n",
        "Training on GPU\n",
        "----------------\n",
        "Just like how you transfer a Tensor on to the GPU, you transfer the neural\n",
        "net onto the GPU.\n",
        "\n",
        "Let's first define our device as the first visible cuda device if we have\n",
        "CUDA available:\n",
        "\n"
      ]
    },
    {
      "cell_type": "code",
      "execution_count": null,
      "metadata": {
        "id": "pyJ3bmPGPbwC"
      },
      "outputs": [],
      "source": [
        "device = torch.device(\"cuda:0\" if torch.cuda.is_available() else \"cpu\")\n",
        "\n",
        "# Assume that we are on a CUDA machine, then this should print a CUDA device:\n",
        "\n",
        "print(device)"
      ]
    },
    {
      "cell_type": "markdown",
      "metadata": {
        "id": "g3370FRUPbwC"
      },
      "source": [
        "The rest of this section assumes that `device` is a CUDA device.\n",
        "\n",
        "Then these methods will recursively go over all modules and convert their\n",
        "parameters and buffers to CUDA tensors:\n",
        "\n",
        ".. code:: python\n",
        "\n",
        "    net.to(device)\n",
        "\n",
        "\n",
        "Remember that you will have to send the inputs and targets at every step\n",
        "to the GPU too:\n",
        "\n",
        ".. code:: python\n",
        "\n",
        "        inputs, labels = inputs.to(device), labels.to(device)\n",
        "\n",
        "Why dont I notice MASSIVE speedup compared to CPU? Because your network\n",
        "is realllly small.\n",
        "\n",
        "**Exercise:** Try increasing the width of your network (argument 2 of\n",
        "the first ``nn.Conv2d``, and argument 1 of the second ``nn.Conv2d`` –\n",
        "they need to be the same number), see what kind of speedup you get.\n",
        "\n",
        "**Goals achieved**:\n",
        "\n",
        "- Understanding PyTorch's Tensor library and neural networks at a high level.\n",
        "- Train a small neural network to classify images\n",
        "\n",
        "Training on multiple GPUs\n",
        "-------------------------\n",
        "If you want to see even more MASSIVE speedup using all of your GPUs,\n",
        "please check out :doc:`data_parallel_tutorial`.\n",
        "\n",
        "Where do I go next?\n",
        "-------------------\n",
        "\n",
        "-  :doc:`Train neural nets to play video games </intermediate/reinforcement_q_learning>`\n",
        "-  `Train a state-of-the-art ResNet network on imagenet`_\n",
        "-  `Train a face generator using Generative Adversarial Networks`_\n",
        "-  `Train a word-level language model using Recurrent LSTM networks`_\n",
        "-  `More examples`_\n",
        "-  `More tutorials`_\n",
        "-  `Discuss PyTorch on the Forums`_\n",
        "-  `Chat with other users on Slack`_\n",
        "\n",
        "\n"
      ]
    }
  ],
  "metadata": {
    "kernelspec": {
      "display_name": "Python 3",
      "name": "python3"
    },
    "language_info": {
      "codemirror_mode": {
        "name": "ipython",
        "version": 3
      },
      "file_extension": ".py",
      "mimetype": "text/x-python",
      "name": "python",
      "nbconvert_exporter": "python",
      "pygments_lexer": "ipython3",
      "version": "3.6.6"
    },
    "colab": {
      "provenance": [],
      "gpuType": "T4"
    },
    "accelerator": "GPU"
  },
  "nbformat": 4,
  "nbformat_minor": 0
}